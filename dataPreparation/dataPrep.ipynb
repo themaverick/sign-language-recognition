{
 "cells": [
  {
   "cell_type": "code",
   "execution_count": 2,
   "metadata": {},
   "outputs": [],
   "source": [
    "import numpy as np\n",
    "import pandas as pd\n",
    "import cv2\n",
    "import Augmentor\n",
    "import mediapipe as mp\n",
    "from os import listdir\n",
    "from os.path import join, isfile"
   ]
  },
  {
   "cell_type": "code",
   "execution_count": 9,
   "metadata": {},
   "outputs": [],
   "source": [
    "mp_hands = mp.solutions.hands\n",
    "hands = mp_hands.Hands(min_detection_confidence=0.7, min_tracking_confidence=0.5)"
   ]
  },
  {
   "cell_type": "code",
   "execution_count": 4,
   "metadata": {},
   "outputs": [],
   "source": [
    "myPth = \"../output/\"\n",
    "#dirs = [\"A\", \"B\", \"C\", \"D\", \"E\", \"F\", \"G\" ,\"H\", \"I\", \"K\", \"L\", \"M\", \"N\", \"O\", \"P\", \"Q\", \"R\" ,\"S\" ,\"T\" ,\"U\" ,\"V\" ,\"W\" ,\"X\" ,\"Y\"]\n",
    "dirs = []\n"
   ]
  },
  {
   "cell_type": "code",
   "execution_count": 10,
   "metadata": {},
   "outputs": [],
   "source": [
    "myPth = \"../output/\"\n",
    "dirs = [\"A\", \"B\", \"C\", \"D\", \"E\", \"F\", \"G\" ,\"H\", \"I\", \"K\", \"L\", \"M\", \"N\", \"O\", \"P\", \"Q\", \"R\" ,\"S\" ,\"T\" ,\"U\" ,\"V\" ,\"W\" ,\"X\" ,\"Y\"]\n",
    "lmks = []\n",
    "\n",
    "for i in range(len(dirs)):\n",
    "    pth = myPth + dirs[i]\n",
    "    for j in range(len(listdir(pth))):\n",
    "\n",
    "        imgAddr = pth + \"/\" + listdir(pth)[j]\n",
    "        img = cv2.imread(imgAddr)\n",
    "        rgbImg = cv2.cvtColor(img, cv2.COLOR_BGR2RGB)\n",
    "        results = hands.process(rgbImg)\n",
    "\n",
    "        lmk = []\n",
    "        if results.multi_hand_landmarks:\n",
    "            for hand_landmarks in results.multi_hand_landmarks:\n",
    "                #for landmark in hand_landmarks.landmark:\n",
    "                hll = hand_landmarks.landmark\n",
    "                for k in range(21):\n",
    "                    lmk.append(hll[k].x)\n",
    "                    lmk.append(hll[k].y)\n",
    "                    lmk.append(hll[k].z)\n",
    "\n",
    "        lmk.append(i)\n",
    "        lmk.append(int(listdir(pth)[j][:-4]))\n",
    "        if len(lmk) == 65:\n",
    "            lmks.append(lmk)"
   ]
  },
  {
   "cell_type": "code",
   "execution_count": 23,
   "metadata": {},
   "outputs": [],
   "source": [
    "lmks = np.array(lmks)"
   ]
  },
  {
   "cell_type": "code",
   "execution_count": 25,
   "metadata": {},
   "outputs": [],
   "source": [
    "np.save(\"../features/dsetAbsLmks2\", lmks)"
   ]
  },
  {
   "cell_type": "code",
   "execution_count": null,
   "metadata": {},
   "outputs": [],
   "source": []
  }
 ],
 "metadata": {
  "kernelspec": {
   "display_name": "DL",
   "language": "python",
   "name": "python3"
  },
  "language_info": {
   "codemirror_mode": {
    "name": "ipython",
    "version": 3
   },
   "file_extension": ".py",
   "mimetype": "text/x-python",
   "name": "python",
   "nbconvert_exporter": "python",
   "pygments_lexer": "ipython3",
   "version": "3.9.18"
  }
 },
 "nbformat": 4,
 "nbformat_minor": 2
}

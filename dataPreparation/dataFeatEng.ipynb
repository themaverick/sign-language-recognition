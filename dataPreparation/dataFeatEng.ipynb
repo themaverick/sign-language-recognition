{
 "cells": [
  {
   "cell_type": "code",
   "execution_count": 16,
   "metadata": {},
   "outputs": [],
   "source": [
    "import numpy as np\n",
    "import cv2\n",
    "from functions import fingVec, foldRatio"
   ]
  },
  {
   "cell_type": "code",
   "execution_count": 3,
   "metadata": {},
   "outputs": [],
   "source": [
    "data = np.load(\"../features/dsetAbsLmks2.npy\")"
   ]
  },
  {
   "cell_type": "code",
   "execution_count": 4,
   "metadata": {},
   "outputs": [
    {
     "data": {
      "text/plain": [
       "(3357, 65)"
      ]
     },
     "execution_count": 4,
     "metadata": {},
     "output_type": "execute_result"
    }
   ],
   "source": [
    "data.shape"
   ]
  },
  {
   "cell_type": "code",
   "execution_count": 24,
   "metadata": {},
   "outputs": [
    {
     "name": "stdout",
     "output_type": "stream",
     "text": [
      "xData:  (3357, 63)    yData:  (3357, 2)\n"
     ]
    }
   ],
   "source": [
    "xData = data[:, :63]\n",
    "yData = data[:, 63: ]\n",
    "\n",
    "print(\"xData: \", xData.shape ,\"  \", \"yData: \", yData.shape)"
   ]
  },
  {
   "cell_type": "code",
   "execution_count": 25,
   "metadata": {},
   "outputs": [],
   "source": [
    "fingvec = []\n",
    "foldrat = []\n",
    "\n",
    "for i in xData:\n",
    "    fingers = np.array([[i[15: 18], i[18: 21], i[21: 24], i[24: 27]], \n",
    "                            [i[27: 30], i[30: 33], i[33: 36], i[36: 39]], \n",
    "                            [i[39: 42], i[42: 45], i[45: 48], i[48: 51]], \n",
    "                            [i[51: 54], i[54: 57], i[57: 60], i[60: ]], \n",
    "                            [i[3: 6], i[6: 9], i[9: 12], i[12: 15]]])\n",
    "    \n",
    "    vec = fingVec(fingers)\n",
    "    fingvec.append(vec)\n",
    "    rat = foldRatio(fingers)\n",
    "    foldrat.append(rat)\n"
   ]
  },
  {
   "cell_type": "code",
   "execution_count": 31,
   "metadata": {},
   "outputs": [],
   "source": [
    "fingvec = np.array(fingvec)\n",
    "foldrat = np.array(foldrat)"
   ]
  },
  {
   "cell_type": "code",
   "execution_count": 32,
   "metadata": {},
   "outputs": [
    {
     "name": "stdout",
     "output_type": "stream",
     "text": [
      "(3357, 5) (3357, 5, 3, 3)\n"
     ]
    }
   ],
   "source": [
    "print(foldrat.shape, fingvec.shape)"
   ]
  },
  {
   "cell_type": "code",
   "execution_count": 38,
   "metadata": {},
   "outputs": [],
   "source": [
    "fingvec_flat = fingvec.reshape(3357, -1)"
   ]
  },
  {
   "cell_type": "code",
   "execution_count": 41,
   "metadata": {},
   "outputs": [],
   "source": [
    "combFeat = np.concatenate((fingvec_flat, foldrat), axis = 1)"
   ]
  },
  {
   "cell_type": "code",
   "execution_count": 42,
   "metadata": {},
   "outputs": [
    {
     "data": {
      "text/plain": [
       "(3357, 50)"
      ]
     },
     "execution_count": 42,
     "metadata": {},
     "output_type": "execute_result"
    }
   ],
   "source": [
    "combFeat.shape"
   ]
  },
  {
   "cell_type": "code",
   "execution_count": 43,
   "metadata": {},
   "outputs": [],
   "source": [
    "dsetEngFeat = np.concatenate((combFeat, yData), axis = 1)"
   ]
  },
  {
   "cell_type": "code",
   "execution_count": 45,
   "metadata": {},
   "outputs": [],
   "source": [
    "np.save(\"../features/dsetEngFeat\", dsetEngFeat)"
   ]
  }
 ],
 "metadata": {
  "kernelspec": {
   "display_name": "DL",
   "language": "python",
   "name": "python3"
  },
  "language_info": {
   "codemirror_mode": {
    "name": "ipython",
    "version": 3
   },
   "file_extension": ".py",
   "mimetype": "text/x-python",
   "name": "python",
   "nbconvert_exporter": "python",
   "pygments_lexer": "ipython3",
   "version": "3.9.18"
  }
 },
 "nbformat": 4,
 "nbformat_minor": 2
}

{
 "cells": [
  {
   "cell_type": "code",
   "execution_count": 61,
   "metadata": {},
   "outputs": [],
   "source": [
    "import numpy as np\n",
    "import pandas as pd\n",
    "import cv2\n",
    "import Augmentor\n",
    "import mediapipe as mp\n",
    "from os import listdir, mkdir, makedirs\n",
    "from os.path import join, isfile\n",
    "import pickle\n",
    "import math"
   ]
  },
  {
   "cell_type": "code",
   "execution_count": 3,
   "metadata": {},
   "outputs": [],
   "source": [
    "mp_hands = mp.solutions.hands\n",
    "hands = mp_hands.Hands(min_detection_confidence=0.7, min_tracking_confidence=0.5, max_num_hands=1)"
   ]
  },
  {
   "cell_type": "code",
   "execution_count": 63,
   "metadata": {},
   "outputs": [],
   "source": [
    "srcPth = \"../images/output/\"\n",
    "outPth = \"../output/\"\n",
    "dirs = [\"A\", \"B\", \"C\", \"D\", \"E\", \"F\", \"G\" ,\"H\", \"I\", \"K\", \"L\", \"M\", \"N\", \"O\", \"P\", \"Q\", \"R\" ,\"S\" ,\"T\" ,\"U\" ,\"V\" ,\"W\" ,\"X\" ,\"Y\"]\n",
    "\n",
    "for m in range(len(dirs)):\n",
    "    try:\n",
    "        makedirs(outPth + str(dirs[m]))\n",
    "    except FileExistsError:\n",
    "        continue"
   ]
  },
  {
   "cell_type": "code",
   "execution_count": 64,
   "metadata": {},
   "outputs": [],
   "source": [
    "srcPth = \"../images/output/\"\n",
    "outPth = \"../output/\"\n",
    "dirs = [\"A\", \"B\", \"C\", \"D\", \"E\", \"F\", \"G\" ,\"H\", \"I\", \"K\", \"L\", \"M\", \"N\", \"O\", \"P\", \"Q\", \"R\" ,\"S\" ,\"T\" ,\"U\" ,\"V\" ,\"W\" ,\"X\" ,\"Y\"]\n",
    "lmks = []\n",
    "offset = 20\n",
    "imgSize = 200\n",
    "\n",
    "\n",
    "for i in range(len(dirs)):\n",
    "    pth = srcPth + dirs[i]\n",
    "    for j in range(len(listdir(pth))):\n",
    "\n",
    "        imgAddr = pth + \"/\" + listdir(pth)[j]\n",
    "        img = cv2.imread(imgAddr)\n",
    "        imgRGB = cv2.cvtColor(img, cv2.COLOR_BGR2RGB)\n",
    "        res = hands.process(imgRGB)\n",
    "        lmk = []\n",
    "        imgWhite = np.ones((imgSize, imgSize, 3), np.uint8) * 255\n",
    "\n",
    "        if res.multi_hand_landmarks:\n",
    "            for hand_landmarks in res.multi_hand_landmarks:\n",
    "                #for landmark in hand_landmarks.landmark:\n",
    "                hll = hand_landmarks.landmark\n",
    "                w = (max(lmk.x for lmk in hll) - min(lmk.x for lmk in hll))*imgRGB.shape[1]\n",
    "                h = (max(lmk.y for lmk in hll) - min(lmk.y for lmk in hll))*imgRGB.shape[0]\n",
    "                x = (min(lmk.x for lmk in hll)*imgRGB.shape[1])\n",
    "                y = (min(lmk.y for lmk in hll)*imgRGB.shape[0])\n",
    "\n",
    "                imgCrop = img[int(y-offset):int(y+h+offset), int(x-offset):int(x+w+offset)]\n",
    "        if imgCrop.size != 0:\n",
    "            imgCropShape = imgCrop.shape\n",
    "            aspectRatio = h / w\n",
    "            if aspectRatio >+ 1:\n",
    "                k = imgSize / h\n",
    "                wCal = math.ceil(k * w)\n",
    "                imgResize = cv2.resize(imgCrop, (wCal, imgSize))\n",
    "                imgResizeShape = imgResize.shape\n",
    "                wGap = math.ceil((imgSize - wCal) / 2)\n",
    "                imgWhite[:, wGap:wCal + wGap] = imgResize\n",
    "            else:\n",
    "                k = imgSize / w\n",
    "                hCal = math.ceil(k * h)\n",
    "                imgResize = cv2.resize(imgCrop, (imgSize, hCal))\n",
    "                imgResizeShape = imgResize.shape\n",
    "                hGap = math.ceil((imgSize - hCal) / 2)\n",
    "                imgWhite[hGap:hCal + hGap, :] = imgResize\n",
    "                \n",
    "                \n",
    "            filePth = outPth + str(dirs[i]) + \"/\" + str(j) + \".jpg\"\n",
    "            cv2.imwrite(filePth, imgWhite)"
   ]
  }
 ],
 "metadata": {
  "kernelspec": {
   "display_name": "DL",
   "language": "python",
   "name": "python3"
  },
  "language_info": {
   "codemirror_mode": {
    "name": "ipython",
    "version": 3
   },
   "file_extension": ".py",
   "mimetype": "text/x-python",
   "name": "python",
   "nbconvert_exporter": "python",
   "pygments_lexer": "ipython3",
   "version": "3.9.18"
  }
 },
 "nbformat": 4,
 "nbformat_minor": 2
}

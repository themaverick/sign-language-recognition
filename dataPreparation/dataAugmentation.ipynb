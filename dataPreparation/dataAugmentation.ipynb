{
 "cells": [
  {
   "cell_type": "code",
   "execution_count": 1,
   "metadata": {},
   "outputs": [],
   "source": [
    "import numpy as np\n",
    "import pandas as pd\n",
    "import cv2\n",
    "import Augmentor\n",
    "import mediapipe as mp\n",
    "from os import listdir\n",
    "from os.path import join, isfile"
   ]
  },
  {
   "cell_type": "code",
   "execution_count": 3,
   "metadata": {},
   "outputs": [],
   "source": [
    "mp_hands = mp.solutions.hands\n",
    "hands = mp_hands.Hands(min_detection_confidence=0.7, min_tracking_confidence=0.5, max_num_hands=1)"
   ]
  },
  {
   "cell_type": "code",
   "execution_count": 8,
   "metadata": {},
   "outputs": [
    {
     "name": "stdout",
     "output_type": "stream",
     "text": [
      "Initialised with 1680 image(s) found.\n",
      "Output directory set to ./images/output."
     ]
    }
   ],
   "source": [
    "dirPth = \"../images/\"\n",
    "p = Augmentor.Pipeline(dirPth)"
   ]
  },
  {
   "cell_type": "code",
   "execution_count": 10,
   "metadata": {},
   "outputs": [],
   "source": [
    "#Specifing the operations to be done on the images along with the probability.\n",
    "p.rotate(max_right_rotation= 10, max_left_rotation=10, probability=0.7)"
   ]
  },
  {
   "cell_type": "code",
   "execution_count": 11,
   "metadata": {},
   "outputs": [
    {
     "name": "stderr",
     "output_type": "stream",
     "text": [
      "Processing <PIL.Image.Image image mode=RGB size=320x240 at 0x1FD27D24AF0>: 100%|██████████| 5000/5000 [00:16<00:00, 299.56 Samples/s]                  \n"
     ]
    }
   ],
   "source": [
    "numSample = 5000\n",
    "p.sample(numSample)"
   ]
  },
  {
   "cell_type": "code",
   "execution_count": null,
   "metadata": {},
   "outputs": [],
   "source": [
    "myPth = \"../images/\"\n",
    "dirs = [\"A\", \"B\", \"C\", \"D\", \"E\", \"F\", \"G\" ,\"H\", \"I\", \"K\", \"L\", \"M\", \"N\", \"O\", \"P\", \"Q\", \"R\" ,\"S\" ,\"T\" ,\"U\" ,\"V\" ,\"W\" ,\"X\" ,\"Y\"]\n",
    "lmks = []\n",
    "\n",
    "for i in range(len(dirs)):\n",
    "    pth = myPth + dirs[i]\n",
    "    for j in range(len(listdir(pth))):\n",
    "\n",
    "        imgAddr = pth + \"/\" + listdir(pth)[0]\n",
    "        img = cv2.imread(imgAddr)\n",
    "        rgbImg = cv2.cvtColor(img, cv2.COLOR_BGR2RGB)\n",
    "        results = hands.process(rgbImg)\n",
    "\n",
    "        lmk = []\n",
    "        if results.multi_hand_landmarks:\n",
    "            for hand_landmarks in results.multi_hand_landmarks:\n",
    "                #for landmark in hand_landmarks.landmark:\n",
    "                hll = hand_landmarks.landmark\n",
    "                for k in range(21):\n",
    "                    lmk.append(hll[k].x)\n",
    "                    lmk.append(hll[k].y)\n",
    "                    lmk.append(hll[k].z)\n",
    "\n",
    "        lmk.append(i)\n",
    "        if len(lmk) == 64:\n",
    "            lmks.append(lmk)"
   ]
  },
  {
   "cell_type": "code",
   "execution_count": null,
   "metadata": {},
   "outputs": [],
   "source": [
    "np.save(\"../features/dsetAbsLmks\", lmks)"
   ]
  }
 ],
 "metadata": {
  "kernelspec": {
   "display_name": "DL",
   "language": "python",
   "name": "python3"
  },
  "language_info": {
   "codemirror_mode": {
    "name": "ipython",
    "version": 3
   },
   "file_extension": ".py",
   "mimetype": "text/x-python",
   "name": "python",
   "nbconvert_exporter": "python",
   "pygments_lexer": "ipython3",
   "version": "3.9.18"
  }
 },
 "nbformat": 4,
 "nbformat_minor": 2
}

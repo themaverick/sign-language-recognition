{
 "cells": [
  {
   "cell_type": "code",
   "execution_count": 7,
   "metadata": {},
   "outputs": [],
   "source": [
    "import numpy as np\n",
    "import pandas as pd\n",
    "import cv2\n",
    "import mediapipe as mp\n",
    "from functions import draw_landmarks"
   ]
  },
  {
   "cell_type": "code",
   "execution_count": 17,
   "metadata": {},
   "outputs": [
    {
     "name": "stdout",
     "output_type": "stream",
     "text": [
      "[[[ 66  80  78]\n",
      "  [ 66  80  78]\n",
      "  [ 67  81  79]\n",
      "  ...\n",
      "  [117 134 130]\n",
      "  [117 135 128]\n",
      "  [117 135 128]]\n",
      "\n",
      " [[ 66  80  78]\n",
      "  [ 66  80  78]\n",
      "  [ 67  81  79]\n",
      "  ...\n",
      "  [116 133 129]\n",
      "  [116 134 127]\n",
      "  [117 135 128]]\n",
      "\n",
      " [[ 66  80  78]\n",
      "  [ 67  81  79]\n",
      "  [ 67  81  79]\n",
      "  ...\n",
      "  [118 135 131]\n",
      "  [119 137 130]\n",
      "  [121 139 132]]\n",
      "\n",
      " ...\n",
      "\n",
      " [[168 168 156]\n",
      "  [166 166 154]\n",
      "  [169 169 157]\n",
      "  ...\n",
      "  [ 14  11   6]\n",
      "  [ 15  12   7]\n",
      "  [ 16  13   8]]\n",
      "\n",
      " [[168 168 156]\n",
      "  [165 165 153]\n",
      "  [169 169 157]\n",
      "  ...\n",
      "  [ 14  11   6]\n",
      "  [ 15  12   7]\n",
      "  [ 17  14   9]]\n",
      "\n",
      " [[168 168 156]\n",
      "  [165 165 153]\n",
      "  [168 168 156]\n",
      "  ...\n",
      "  [ 14  11   6]\n",
      "  [ 16  13   8]\n",
      "  [ 17  14   9]]]\n"
     ]
    }
   ],
   "source": [
    "testImg = cv2.imread(\"./Dataset/user_7/K8.jpg\")\n",
    "print(testImg)"
   ]
  },
  {
   "cell_type": "code",
   "execution_count": 26,
   "metadata": {},
   "outputs": [],
   "source": [
    "mp_hands = mp.solutions.hands\n",
    "hands = mp_hands.Hands(min_detection_confidence=0.7, min_tracking_confidence=0.5)"
   ]
  },
  {
   "cell_type": "code",
   "execution_count": 49,
   "metadata": {},
   "outputs": [],
   "source": [
    "dset = []\n",
    "\n",
    "for i in range(1):\n",
    "    addr = \"./Dataset/user_3/A\"\n",
    "    imgaddr = addr + str(i) + \".jpg\"\n",
    "    img = cv2.imread(imgaddr)\n",
    "\n",
    "    rgb_frame = cv2.cvtColor(img, cv2.COLOR_BGR2RGB)\n",
    "\n",
    "    results = hands.process(rgb_frame)\n",
    "\n",
    "    if results.multi_hand_landmarks:\n",
    "        for hand_landmarks in results.multi_hand_landmarks:\n",
    "            for landmark in hand_landmarks.landmark:\n",
    "                dset.append([landmark.x, landmark.y, landmark.z])"
   ]
  },
  {
   "cell_type": "code",
   "execution_count": 51,
   "metadata": {},
   "outputs": [
    {
     "data": {
      "text/plain": [
       "[[[0.5055405497550964], [0.38857346773147583], [-5.237602067609259e-07]],\n",
       " [[0.5702322125434875], [0.34208643436431885], [-0.012312382459640503]],\n",
       " [[0.6178761124610901], [0.26392462849617004], [-0.01608561910688877]],\n",
       " [[0.6387125253677368], [0.18837779760360718], [-0.022614100947976112]],\n",
       " [[0.6147016286849976], [0.1368897706270218], [-0.02677234075963497]],\n",
       " [[0.5789148211479187], [0.19390727579593658], [-0.0011902159312739968]],\n",
       " [[0.5847315788269043], [0.12400412559509277], [-0.03033692017197609]],\n",
       " [[0.5818970203399658], [0.18751710653305054], [-0.045570943504571915]],\n",
       " [[0.5763342976570129], [0.2301713526248932], [-0.0500573106110096]],\n",
       " [[0.5375294089317322], [0.19430477917194366], [-0.00558115029707551]],\n",
       " [[0.5413678288459778], [0.13939273357391357], [-0.03561058267951012]],\n",
       " [[0.5434193015098572], [0.22191199660301208], [-0.04177134111523628]],\n",
       " [[0.5392136573791504], [0.25870847702026367], [-0.03908497095108032]],\n",
       " [[0.4959731698036194], [0.20561644434928894], [-0.01407905574887991]],\n",
       " [[0.49936243891716003], [0.14498178660869598], [-0.04520382732152939]],\n",
       " [[0.5088969469070435], [0.22796979546546936], [-0.03321307152509689]],\n",
       " [[0.5084758400917053], [0.2700018584728241], [-0.016558684408664703]],\n",
       " [[0.4522733986377716], [0.22427630424499512], [-0.023529183119535446]],\n",
       " [[0.46075764298439026], [0.170942485332489], [-0.04185923933982849]],\n",
       " [[0.47368356585502625], [0.22534160315990448], [-0.02829371951520443]],\n",
       " [[0.4751487970352173], [0.2622329890727997], [-0.012515219859778881]]]"
      ]
     },
     "execution_count": 51,
     "metadata": {},
     "output_type": "execute_result"
    }
   ],
   "source": [
    "dset"
   ]
  },
  {
   "cell_type": "code",
   "execution_count": null,
   "metadata": {},
   "outputs": [],
   "source": []
  },
  {
   "cell_type": "code",
   "execution_count": null,
   "metadata": {},
   "outputs": [],
   "source": []
  },
  {
   "cell_type": "markdown",
   "metadata": {},
   "source": []
  }
 ],
 "metadata": {
  "kernelspec": {
   "display_name": "slr",
   "language": "python",
   "name": "python3"
  },
  "language_info": {
   "codemirror_mode": {
    "name": "ipython",
    "version": 3
   },
   "file_extension": ".py",
   "mimetype": "text/x-python",
   "name": "python",
   "nbconvert_exporter": "python",
   "pygments_lexer": "ipython3",
   "version": "3.9.18"
  }
 },
 "nbformat": 4,
 "nbformat_minor": 2
}

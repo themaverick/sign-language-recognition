{
 "cells": [
  {
   "cell_type": "code",
   "execution_count": 1,
   "metadata": {},
   "outputs": [],
   "source": [
    "import torch\n",
    "import torch.nn as nn\n",
    "import torch.optim as optim\n",
    "import torch.nn.functional as F\n",
    "from torch.utils.data import DataLoader \n",
    "import numpy as np\n",
    "import cv2"
   ]
  },
  {
   "cell_type": "code",
   "execution_count": 2,
   "metadata": {},
   "outputs": [],
   "source": [
    "from sklearn.model_selection import train_test_split\n",
    "from sklearn.preprocessing import OneHotEncoder"
   ]
  },
  {
   "cell_type": "code",
   "execution_count": 3,
   "metadata": {},
   "outputs": [],
   "source": [
    "dsetAbsLmks = np.load(\"../features/dsetAbsLmks2.npy\")"
   ]
  },
  {
   "cell_type": "code",
   "execution_count": 5,
   "metadata": {},
   "outputs": [
    {
     "data": {
      "text/plain": [
       "(65,)"
      ]
     },
     "execution_count": 5,
     "metadata": {},
     "output_type": "execute_result"
    }
   ],
   "source": [
    "dsetAbsLmks[204].shape"
   ]
  },
  {
   "cell_type": "code",
   "execution_count": 6,
   "metadata": {},
   "outputs": [
    {
     "data": {
      "text/plain": [
       "array([ 4.31281507e-01,  8.53407323e-01,  4.78578613e-07,  5.28024375e-01,\n",
       "        7.91580319e-01, -4.57092151e-02,  5.85789084e-01,  6.47202730e-01,\n",
       "       -5.22061810e-02,  5.57216823e-01,  5.26896417e-01, -5.64637743e-02,\n",
       "        4.85509366e-01,  4.77453560e-01, -5.82755022e-02,  5.73314488e-01,\n",
       "        4.91510391e-01, -2.24775937e-03,  5.93718469e-01,  3.48280370e-01,\n",
       "       -2.69690603e-02,  5.91278672e-01,  2.57417649e-01, -5.33234440e-02,\n",
       "        5.80380201e-01,  1.78323597e-01, -7.45921955e-02,  5.17271698e-01,\n",
       "        4.69100684e-01, -5.69431949e-03,  5.39254546e-01,  3.12861294e-01,\n",
       "       -2.44036913e-02,  5.45751512e-01,  2.13418424e-01, -4.55217212e-02,\n",
       "        5.44572115e-01,  1.30341142e-01, -6.20588325e-02,  4.60966855e-01,\n",
       "        4.75928575e-01, -1.88735910e-02,  4.77638692e-01,  3.24570119e-01,\n",
       "       -3.98017094e-02,  4.88293588e-01,  2.33943790e-01, -5.67678139e-02,\n",
       "        4.89725024e-01,  1.57623619e-01, -6.90200329e-02,  4.00030255e-01,\n",
       "        5.03061652e-01, -3.88998874e-02,  4.12736028e-01,  3.79603446e-01,\n",
       "       -6.00902773e-02,  4.22032684e-01,  3.02036643e-01, -6.95211664e-02,\n",
       "        4.27215904e-01,  2.31161892e-01, -7.65048563e-02,  1.00000000e+00,\n",
       "        1.60000000e+01])"
      ]
     },
     "execution_count": 6,
     "metadata": {},
     "output_type": "execute_result"
    }
   ],
   "source": [
    "dsetAbsLmks[204]"
   ]
  },
  {
   "cell_type": "code",
   "execution_count": 7,
   "metadata": {},
   "outputs": [],
   "source": [
    "X = dsetAbsLmks[:, :63]\n",
    "y = dsetAbsLmks[:, 63:]"
   ]
  },
  {
   "cell_type": "code",
   "execution_count": 8,
   "metadata": {},
   "outputs": [
    {
     "name": "stdout",
     "output_type": "stream",
     "text": [
      "X.shape:  (3357, 63) \n",
      "y.shape:  (3357, 2)\n"
     ]
    }
   ],
   "source": [
    "print(\"X.shape: \", X.shape, \"\\ny.shape: \", y.shape)"
   ]
  },
  {
   "cell_type": "code",
   "execution_count": 9,
   "metadata": {},
   "outputs": [],
   "source": [
    "X_train, X_test, y_train, y_test = train_test_split(X, y, test_size=0.2)"
   ]
  },
  {
   "cell_type": "code",
   "execution_count": 11,
   "metadata": {},
   "outputs": [
    {
     "data": {
      "text/plain": [
       "array([ 8., 50.])"
      ]
     },
     "execution_count": 11,
     "metadata": {},
     "output_type": "execute_result"
    }
   ],
   "source": [
    "y_train[0]"
   ]
  },
  {
   "cell_type": "code",
   "execution_count": 13,
   "metadata": {},
   "outputs": [
    {
     "data": {
      "text/plain": [
       "array([[  8.,  50.],\n",
       "       [  4., 140.],\n",
       "       [  6., 195.],\n",
       "       [ 20.,  64.],\n",
       "       [ 13.,  16.]])"
      ]
     },
     "execution_count": 13,
     "metadata": {},
     "output_type": "execute_result"
    }
   ],
   "source": [
    "y_train[:5]"
   ]
  },
  {
   "cell_type": "code",
   "execution_count": 14,
   "metadata": {},
   "outputs": [],
   "source": [
    "numTrain = y_train[:, -1]\n",
    "numTest = y_test[:, -1]\n",
    "y_train = y_train[:, 0]\n",
    "y_test = y_test[:, 0]"
   ]
  },
  {
   "cell_type": "code",
   "execution_count": 15,
   "metadata": {},
   "outputs": [
    {
     "name": "stderr",
     "output_type": "stream",
     "text": [
      "c:\\Users\\HP\\.conda\\envs\\DL\\lib\\site-packages\\sklearn\\preprocessing\\_encoders.py:972: FutureWarning: `sparse` was renamed to `sparse_output` in version 1.2 and will be removed in 1.4. `sparse_output` is ignored unless you leave `sparse` to its default value.\n",
      "  warnings.warn(\n",
      "c:\\Users\\HP\\.conda\\envs\\DL\\lib\\site-packages\\sklearn\\preprocessing\\_encoders.py:972: FutureWarning: `sparse` was renamed to `sparse_output` in version 1.2 and will be removed in 1.4. `sparse_output` is ignored unless you leave `sparse` to its default value.\n",
      "  warnings.warn(\n"
     ]
    }
   ],
   "source": [
    "encoder = OneHotEncoder(sparse = False)\n",
    "y_train = encoder.fit_transform(y_train.reshape(-1, 1))\n",
    "y_test = encoder.fit_transform(y_test.reshape(-1, 1))"
   ]
  },
  {
   "cell_type": "code",
   "execution_count": 17,
   "metadata": {},
   "outputs": [
    {
     "data": {
      "text/plain": [
       "array([[0., 0., 0., 0., 0., 0., 0., 0., 1., 0., 0., 0., 0., 0., 0., 0.,\n",
       "        0., 0., 0., 0., 0., 0., 0., 0.],\n",
       "       [0., 0., 0., 0., 1., 0., 0., 0., 0., 0., 0., 0., 0., 0., 0., 0.,\n",
       "        0., 0., 0., 0., 0., 0., 0., 0.],\n",
       "       [0., 0., 0., 0., 0., 0., 1., 0., 0., 0., 0., 0., 0., 0., 0., 0.,\n",
       "        0., 0., 0., 0., 0., 0., 0., 0.],\n",
       "       [0., 0., 0., 0., 0., 0., 0., 0., 0., 0., 0., 0., 0., 0., 0., 0.,\n",
       "        0., 0., 0., 0., 1., 0., 0., 0.],\n",
       "       [0., 0., 0., 0., 0., 0., 0., 0., 0., 0., 0., 0., 0., 1., 0., 0.,\n",
       "        0., 0., 0., 0., 0., 0., 0., 0.]])"
      ]
     },
     "execution_count": 17,
     "metadata": {},
     "output_type": "execute_result"
    }
   ],
   "source": [
    "y_train[:5]"
   ]
  },
  {
   "cell_type": "code",
   "execution_count": 18,
   "metadata": {},
   "outputs": [],
   "source": [
    "class NN(nn.Module):\n",
    "  def __init__(self, input_size, num_classes):\n",
    "    super(NN, self).__init__()\n",
    "    self.fc1 = nn.Linear(input_size, 128)\n",
    "    self.fc2 = nn.Linear(128, 64)\n",
    "    self.fc3 = nn.Linear(64, num_classes)\n",
    "\n",
    "\n",
    "# Sequential Layer\n",
    "  def forward(self, x):\n",
    "    x = self.fc3(F.relu(self.fc2(F.relu(self.fc1(x)))))\n",
    "    return x"
   ]
  },
  {
   "cell_type": "code",
   "execution_count": 19,
   "metadata": {},
   "outputs": [],
   "source": [
    "\n",
    "def calculate_accuracy(y_pred, y_true):\n",
    "    _, predicted = torch.max(y_pred, 1)\n",
    "    _, true = torch.max(y_true, 1)\n",
    "    correct = (predicted == true).sum().item()\n",
    "    accuracy = correct / y_true.size(0)\n",
    "    return accuracy"
   ]
  },
  {
   "cell_type": "code",
   "execution_count": 20,
   "metadata": {},
   "outputs": [],
   "source": [
    "X_train = torch.from_numpy(X_train)\n",
    "X_test = torch.from_numpy(X_test)\n",
    "y_test = torch.from_numpy(y_test)\n",
    "y_train = torch.from_numpy(y_train)"
   ]
  },
  {
   "cell_type": "code",
   "execution_count": 21,
   "metadata": {},
   "outputs": [],
   "source": [
    "X_train = X_train.float()\n",
    "X_test = X_test.float()\n",
    "y_train = y_train.float()\n",
    "y_test = y_test.float()"
   ]
  },
  {
   "cell_type": "code",
   "execution_count": 22,
   "metadata": {},
   "outputs": [
    {
     "data": {
      "text/plain": [
       "torch.float32"
      ]
     },
     "execution_count": 22,
     "metadata": {},
     "output_type": "execute_result"
    }
   ],
   "source": [
    "X_train.dtype"
   ]
  },
  {
   "cell_type": "code",
   "execution_count": 34,
   "metadata": {},
   "outputs": [],
   "source": [
    "input_size = 63          # Number of input features (e.g., flattened size of images)\n",
    "num_classes = 24           # Number of output classes\n",
    "learning_rate = 0.01      # Learning rate for the optimization algorithm\n",
    "batch_size = 64             # Number of input samples in each mini-batch\n",
    "num_epochs = 1"
   ]
  },
  {
   "cell_type": "code",
   "execution_count": 38,
   "metadata": {},
   "outputs": [],
   "source": [
    "model_1 = NN(input_size=input_size, num_classes=num_classes)"
   ]
  },
  {
   "cell_type": "code",
   "execution_count": 39,
   "metadata": {},
   "outputs": [],
   "source": [
    "# Define the loss criterion as CrossEntropyLoss and the optimization algorithm as Adam\n",
    "criterion = nn.CrossEntropyLoss()\n",
    "optimizer = optim.Adam(model_1.parameters(), lr=learning_rate)"
   ]
  },
  {
   "cell_type": "code",
   "execution_count": 40,
   "metadata": {},
   "outputs": [
    {
     "name": "stdout",
     "output_type": "stream",
     "text": [
      "epoch: 1, Training Loss: 3.2662055492401123, Testing Loss: 3.250627040863037, Training Accuracy: 0.053631284916201116, Testing Accuracy: 0.043154761904761904\n",
      "\n",
      "epoch: 2, Training Loss: 3.3172900676727295, Testing Loss: 3.338099479675293, Training Accuracy: 0.04432029795158287, Testing Accuracy: 0.03422619047619048\n",
      "\n",
      "epoch: 3, Training Loss: 3.1599535942077637, Testing Loss: 3.156745433807373, Training Accuracy: 0.06554934823091248, Testing Accuracy: 0.06398809523809523\n",
      "\n",
      "epoch: 4, Training Loss: 3.1480300426483154, Testing Loss: 3.1348514556884766, Training Accuracy: 0.060335195530726256, Testing Accuracy: 0.06845238095238096\n",
      "\n",
      "epoch: 5, Training Loss: 3.1296279430389404, Testing Loss: 3.1103155612945557, Training Accuracy: 0.05325884543761639, Testing Accuracy: 0.05952380952380952\n",
      "\n",
      "epoch: 6, Training Loss: 3.0884838104248047, Testing Loss: 3.065485954284668, Training Accuracy: 0.0893854748603352, Testing Accuracy: 0.10119047619047619\n",
      "\n",
      "epoch: 7, Training Loss: 3.015918731689453, Testing Loss: 2.9791347980499268, Training Accuracy: 0.18472998137802607, Testing Accuracy: 0.20982142857142858\n",
      "\n",
      "epoch: 8, Training Loss: 2.9453420639038086, Testing Loss: 2.897915840148926, Training Accuracy: 0.18659217877094972, Testing Accuracy: 0.20238095238095238\n",
      "\n",
      "epoch: 9, Training Loss: 2.8755242824554443, Testing Loss: 2.82304048538208, Training Accuracy: 0.13594040968342644, Testing Accuracy: 0.18154761904761904\n",
      "\n",
      "epoch: 10, Training Loss: 2.7452316284179688, Testing Loss: 2.67696475982666, Training Accuracy: 0.1441340782122905, Testing Accuracy: 0.19940476190476192\n",
      "\n",
      "epoch: 11, Training Loss: 2.6383254528045654, Testing Loss: 2.545083999633789, Training Accuracy: 0.18324022346368715, Testing Accuracy: 0.22767857142857142\n",
      "\n",
      "epoch: 12, Training Loss: 2.4804515838623047, Testing Loss: 2.3922338485717773, Training Accuracy: 0.20297951582867785, Testing Accuracy: 0.24702380952380953\n",
      "\n",
      "epoch: 13, Training Loss: 2.4459781646728516, Testing Loss: 2.3588297367095947, Training Accuracy: 0.20037243947858474, Testing Accuracy: 0.22172619047619047\n",
      "\n",
      "epoch: 14, Training Loss: 2.3066561222076416, Testing Loss: 2.2196531295776367, Training Accuracy: 0.22867783985102422, Testing Accuracy: 0.27380952380952384\n",
      "\n",
      "epoch: 15, Training Loss: 2.2804250717163086, Testing Loss: 2.187107801437378, Training Accuracy: 0.29087523277467414, Testing Accuracy: 0.3273809523809524\n",
      "\n",
      "epoch: 16, Training Loss: 2.108755588531494, Testing Loss: 2.0349714756011963, Training Accuracy: 0.297951582867784, Testing Accuracy: 0.3601190476190476\n",
      "\n",
      "epoch: 17, Training Loss: 2.0347166061401367, Testing Loss: 1.9670636653900146, Training Accuracy: 0.31880819366852886, Testing Accuracy: 0.35267857142857145\n",
      "\n",
      "epoch: 18, Training Loss: 1.9258408546447754, Testing Loss: 1.8627732992172241, Training Accuracy: 0.45363128491620114, Testing Accuracy: 0.47023809523809523\n",
      "\n",
      "epoch: 19, Training Loss: 1.8961681127548218, Testing Loss: 1.8336968421936035, Training Accuracy: 0.41564245810055866, Testing Accuracy: 0.43601190476190477\n",
      "\n",
      "epoch: 20, Training Loss: 1.8495256900787354, Testing Loss: 1.7796006202697754, Training Accuracy: 0.3452513966480447, Testing Accuracy: 0.375\n",
      "\n",
      "epoch: 21, Training Loss: 1.7560056447982788, Testing Loss: 1.6988126039505005, Training Accuracy: 0.40670391061452515, Testing Accuracy: 0.4538690476190476\n",
      "\n",
      "epoch: 22, Training Loss: 1.6505805253982544, Testing Loss: 1.6042938232421875, Training Accuracy: 0.47374301675977654, Testing Accuracy: 0.47767857142857145\n",
      "\n",
      "epoch: 23, Training Loss: 1.5436961650848389, Testing Loss: 1.5081381797790527, Training Accuracy: 0.5188081936685288, Testing Accuracy: 0.5163690476190477\n",
      "\n",
      "epoch: 24, Training Loss: 1.5606279373168945, Testing Loss: 1.5345910787582397, Training Accuracy: 0.45623836126629425, Testing Accuracy: 0.46279761904761907\n",
      "\n",
      "epoch: 25, Training Loss: 1.4435641765594482, Testing Loss: 1.4207165241241455, Training Accuracy: 0.5620111731843576, Testing Accuracy: 0.5446428571428571\n",
      "\n",
      "epoch: 26, Training Loss: 1.3987929821014404, Testing Loss: 1.3833177089691162, Training Accuracy: 0.5262569832402234, Testing Accuracy: 0.5208333333333334\n",
      "\n",
      "epoch: 27, Training Loss: 1.3235951662063599, Testing Loss: 1.3081601858139038, Training Accuracy: 0.539292364990689, Testing Accuracy: 0.5357142857142857\n",
      "\n",
      "epoch: 28, Training Loss: 1.2966444492340088, Testing Loss: 1.2773603200912476, Training Accuracy: 0.5713221601489757, Testing Accuracy: 0.5669642857142857\n",
      "\n",
      "epoch: 29, Training Loss: 1.2159547805786133, Testing Loss: 1.2225054502487183, Training Accuracy: 0.5914338919925513, Testing Accuracy: 0.5714285714285714\n",
      "\n",
      "epoch: 30, Training Loss: 1.154454231262207, Testing Loss: 1.1627254486083984, Training Accuracy: 0.623463687150838, Testing Accuracy: 0.5997023809523809\n",
      "\n",
      "epoch: 31, Training Loss: 1.1221723556518555, Testing Loss: 1.129239559173584, Training Accuracy: 0.6122905027932961, Testing Accuracy: 0.5892857142857143\n",
      "\n",
      "epoch: 32, Training Loss: 1.0421174764633179, Testing Loss: 1.0629606246948242, Training Accuracy: 0.668901303538175, Testing Accuracy: 0.6666666666666666\n",
      "\n",
      "epoch: 33, Training Loss: 1.0207445621490479, Testing Loss: 1.045600414276123, Training Accuracy: 0.6811918063314711, Testing Accuracy: 0.6488095238095238\n",
      "\n",
      "epoch: 34, Training Loss: 0.9554945826530457, Testing Loss: 0.975565493106842, Training Accuracy: 0.684171322160149, Testing Accuracy: 0.6577380952380952\n",
      "\n",
      "epoch: 35, Training Loss: 0.9174255728721619, Testing Loss: 0.9467490911483765, Training Accuracy: 0.7113594040968343, Testing Accuracy: 0.6845238095238095\n",
      "\n",
      "epoch: 36, Training Loss: 0.8915292024612427, Testing Loss: 0.9382864832878113, Training Accuracy: 0.7303538175046554, Testing Accuracy: 0.6875\n",
      "\n",
      "epoch: 37, Training Loss: 0.8292496204376221, Testing Loss: 0.8669350743293762, Training Accuracy: 0.7497206703910615, Testing Accuracy: 0.7380952380952381\n",
      "\n",
      "epoch: 38, Training Loss: 0.7981160879135132, Testing Loss: 0.8352376818656921, Training Accuracy: 0.7512104283054004, Testing Accuracy: 0.7455357142857143\n",
      "\n",
      "epoch: 39, Training Loss: 0.7792928814888, Testing Loss: 0.84004145860672, Training Accuracy: 0.7471135940409683, Testing Accuracy: 0.7247023809523809\n",
      "\n",
      "epoch: 40, Training Loss: 0.7310295701026917, Testing Loss: 0.7739249467849731, Training Accuracy: 0.7702048417132216, Testing Accuracy: 0.7529761904761905\n",
      "\n",
      "epoch: 41, Training Loss: 0.7048492431640625, Testing Loss: 0.7370694279670715, Training Accuracy: 0.7843575418994413, Testing Accuracy: 0.7723214285714286\n",
      "\n",
      "epoch: 42, Training Loss: 0.6988906264305115, Testing Loss: 0.7481264472007751, Training Accuracy: 0.7798882681564245, Testing Accuracy: 0.7708333333333334\n",
      "\n",
      "epoch: 43, Training Loss: 0.6598439812660217, Testing Loss: 0.7023196816444397, Training Accuracy: 0.7847299813780261, Testing Accuracy: 0.7797619047619048\n",
      "\n",
      "epoch: 44, Training Loss: 0.6230854988098145, Testing Loss: 0.6859908103942871, Training Accuracy: 0.8059590316573557, Testing Accuracy: 0.7842261904761905\n",
      "\n",
      "epoch: 45, Training Loss: 0.6110204458236694, Testing Loss: 0.6727521419525146, Training Accuracy: 0.8070763500931099, Testing Accuracy: 0.8005952380952381\n",
      "\n",
      "epoch: 46, Training Loss: 0.612529993057251, Testing Loss: 0.6546141505241394, Training Accuracy: 0.8067039106145252, Testing Accuracy: 0.7916666666666666\n",
      "\n",
      "epoch: 47, Training Loss: 0.6062575578689575, Testing Loss: 0.6575459241867065, Training Accuracy: 0.7832402234636872, Testing Accuracy: 0.7901785714285714\n",
      "\n",
      "epoch: 48, Training Loss: 0.6941643357276917, Testing Loss: 0.7493587732315063, Training Accuracy: 0.7635009310986964, Testing Accuracy: 0.7276785714285714\n",
      "\n",
      "epoch: 49, Training Loss: 0.9764700531959534, Testing Loss: 1.0333969593048096, Training Accuracy: 0.6253258845437616, Testing Accuracy: 0.6235119047619048\n",
      "\n",
      "epoch: 50, Training Loss: 1.2042551040649414, Testing Loss: 1.267113447189331, Training Accuracy: 0.54487895716946, Testing Accuracy: 0.5372023809523809\n",
      "\n",
      "epoch: 51, Training Loss: 0.5904762148857117, Testing Loss: 0.6627681255340576, Training Accuracy: 0.7899441340782123, Testing Accuracy: 0.7946428571428571\n",
      "\n",
      "epoch: 52, Training Loss: 0.9860544204711914, Testing Loss: 1.0535222291946411, Training Accuracy: 0.6312849162011173, Testing Accuracy: 0.6413690476190477\n",
      "\n",
      "epoch: 53, Training Loss: 0.7357749938964844, Testing Loss: 0.8205176591873169, Training Accuracy: 0.7042830540037244, Testing Accuracy: 0.6800595238095238\n",
      "\n",
      "epoch: 54, Training Loss: 0.8271774649620056, Testing Loss: 0.8849549889564514, Training Accuracy: 0.6584729981378026, Testing Accuracy: 0.6517857142857143\n",
      "\n",
      "epoch: 55, Training Loss: 0.6321775317192078, Testing Loss: 0.6800268292427063, Training Accuracy: 0.7474860335195531, Testing Accuracy: 0.7544642857142857\n",
      "\n",
      "epoch: 56, Training Loss: 0.7860201597213745, Testing Loss: 0.8325914740562439, Training Accuracy: 0.6867783985102421, Testing Accuracy: 0.7053571428571429\n",
      "\n",
      "epoch: 57, Training Loss: 0.587318480014801, Testing Loss: 0.6569926142692566, Training Accuracy: 0.7865921787709497, Testing Accuracy: 0.7767857142857143\n",
      "\n",
      "epoch: 58, Training Loss: 0.6714580059051514, Testing Loss: 0.7365992665290833, Training Accuracy: 0.7437616387337058, Testing Accuracy: 0.7068452380952381\n",
      "\n",
      "epoch: 59, Training Loss: 0.6206061244010925, Testing Loss: 0.6427361369132996, Training Accuracy: 0.7675977653631285, Testing Accuracy: 0.7857142857142857\n",
      "\n",
      "epoch: 60, Training Loss: 0.5722616910934448, Testing Loss: 0.6189364790916443, Training Accuracy: 0.7985102420856611, Testing Accuracy: 0.8095238095238095\n",
      "\n",
      "epoch: 61, Training Loss: 0.5675798654556274, Testing Loss: 0.6548758745193481, Training Accuracy: 0.7992551210428306, Testing Accuracy: 0.7872023809523809\n",
      "\n",
      "epoch: 62, Training Loss: 0.6183794736862183, Testing Loss: 0.7215117812156677, Training Accuracy: 0.7616387337057728, Testing Accuracy: 0.7410714285714286\n",
      "\n",
      "epoch: 63, Training Loss: 0.4797787368297577, Testing Loss: 0.5516506433486938, Training Accuracy: 0.8402234636871508, Testing Accuracy: 0.8422619047619048\n",
      "\n",
      "epoch: 64, Training Loss: 0.5519862174987793, Testing Loss: 0.5844706892967224, Training Accuracy: 0.8212290502793296, Testing Accuracy: 0.8169642857142857\n",
      "\n",
      "epoch: 65, Training Loss: 0.5288401246070862, Testing Loss: 0.5620202422142029, Training Accuracy: 0.8268156424581006, Testing Accuracy: 0.8348214285714286\n",
      "\n",
      "epoch: 66, Training Loss: 0.4751896858215332, Testing Loss: 0.5482751131057739, Training Accuracy: 0.8420856610800744, Testing Accuracy: 0.8452380952380952\n",
      "\n",
      "epoch: 67, Training Loss: 0.4971374571323395, Testing Loss: 0.5898356437683105, Training Accuracy: 0.8294227188081936, Testing Accuracy: 0.8318452380952381\n",
      "\n",
      "epoch: 68, Training Loss: 0.4691914916038513, Testing Loss: 0.5401642918586731, Training Accuracy: 0.8271880819366852, Testing Accuracy: 0.8348214285714286\n",
      "\n",
      "epoch: 69, Training Loss: 0.47165045142173767, Testing Loss: 0.5187828540802002, Training Accuracy: 0.8297951582867784, Testing Accuracy: 0.8377976190476191\n",
      "\n",
      "epoch: 70, Training Loss: 0.4464515447616577, Testing Loss: 0.4941117465496063, Training Accuracy: 0.8517690875232775, Testing Accuracy: 0.875\n",
      "\n",
      "epoch: 71, Training Loss: 0.4456612169742584, Testing Loss: 0.5123471617698669, Training Accuracy: 0.8651769087523278, Testing Accuracy: 0.8497023809523809\n",
      "\n",
      "epoch: 72, Training Loss: 0.42926591634750366, Testing Loss: 0.505229115486145, Training Accuracy: 0.8633147113594041, Testing Accuracy: 0.8571428571428571\n",
      "\n",
      "epoch: 73, Training Loss: 0.4229750335216522, Testing Loss: 0.49007198214530945, Training Accuracy: 0.8636871508379889, Testing Accuracy: 0.8645833333333334\n",
      "\n",
      "epoch: 74, Training Loss: 0.4246484637260437, Testing Loss: 0.4877956509590149, Training Accuracy: 0.8633147113594041, Testing Accuracy: 0.8705357142857143\n",
      "\n",
      "epoch: 75, Training Loss: 0.3845313489437103, Testing Loss: 0.44836363196372986, Training Accuracy: 0.8908752327746741, Testing Accuracy: 0.8913690476190477\n",
      "\n",
      "epoch: 76, Training Loss: 0.41066962480545044, Testing Loss: 0.47493213415145874, Training Accuracy: 0.8588454376163873, Testing Accuracy: 0.8616071428571429\n",
      "\n",
      "epoch: 77, Training Loss: 0.3783889710903168, Testing Loss: 0.4444097876548767, Training Accuracy: 0.8897579143389199, Testing Accuracy: 0.8958333333333334\n",
      "\n",
      "epoch: 78, Training Loss: 0.38034847378730774, Testing Loss: 0.44620558619499207, Training Accuracy: 0.8789571694599627, Testing Accuracy: 0.8854166666666666\n",
      "\n",
      "epoch: 79, Training Loss: 0.37826892733573914, Testing Loss: 0.4405752718448639, Training Accuracy: 0.8860335195530726, Testing Accuracy: 0.8973214285714286\n",
      "\n",
      "epoch: 80, Training Loss: 0.36210426688194275, Testing Loss: 0.4193565845489502, Training Accuracy: 0.8886405959031657, Testing Accuracy: 0.8943452380952381\n",
      "\n",
      "epoch: 81, Training Loss: 0.37022072076797485, Testing Loss: 0.4271332919597626, Training Accuracy: 0.8815642458100559, Testing Accuracy: 0.8913690476190477\n",
      "\n",
      "epoch: 82, Training Loss: 0.34564775228500366, Testing Loss: 0.41256728768348694, Training Accuracy: 0.9005586592178771, Testing Accuracy: 0.8988095238095238\n",
      "\n",
      "epoch: 83, Training Loss: 0.3591686487197876, Testing Loss: 0.4343091547489166, Training Accuracy: 0.8841713221601489, Testing Accuracy: 0.8913690476190477\n",
      "\n",
      "epoch: 84, Training Loss: 0.3426627814769745, Testing Loss: 0.4193384647369385, Training Accuracy: 0.8986964618249534, Testing Accuracy: 0.8973214285714286\n",
      "\n",
      "epoch: 85, Training Loss: 0.34176310896873474, Testing Loss: 0.4116753935813904, Training Accuracy: 0.8927374301675978, Testing Accuracy: 0.90625\n",
      "\n",
      "epoch: 86, Training Loss: 0.336239755153656, Testing Loss: 0.4006063938140869, Training Accuracy: 0.8938547486033519, Testing Accuracy: 0.8958333333333334\n",
      "\n",
      "epoch: 87, Training Loss: 0.3295127749443054, Testing Loss: 0.39474382996559143, Training Accuracy: 0.8998137802607077, Testing Accuracy: 0.9017857142857143\n",
      "\n",
      "epoch: 88, Training Loss: 0.3281775414943695, Testing Loss: 0.39605826139450073, Training Accuracy: 0.9013035381750466, Testing Accuracy: 0.8988095238095238\n",
      "\n",
      "epoch: 89, Training Loss: 0.32051995396614075, Testing Loss: 0.387857586145401, Training Accuracy: 0.9068901303538175, Testing Accuracy: 0.9136904761904762\n",
      "\n",
      "epoch: 90, Training Loss: 0.32167696952819824, Testing Loss: 0.3872566819190979, Training Accuracy: 0.903538175046555, Testing Accuracy: 0.9151785714285714\n",
      "\n",
      "epoch: 91, Training Loss: 0.31054702401161194, Testing Loss: 0.38062119483947754, Training Accuracy: 0.9065176908752328, Testing Accuracy: 0.9107142857142857\n",
      "\n",
      "epoch: 92, Training Loss: 0.3126540780067444, Testing Loss: 0.3865140676498413, Training Accuracy: 0.9094972067039107, Testing Accuracy: 0.8988095238095238\n",
      "\n",
      "epoch: 93, Training Loss: 0.30351126194000244, Testing Loss: 0.3761306405067444, Training Accuracy: 0.9087523277467412, Testing Accuracy: 0.9122023809523809\n",
      "\n",
      "epoch: 94, Training Loss: 0.30622944235801697, Testing Loss: 0.37747922539711, Training Accuracy: 0.906145251396648, Testing Accuracy: 0.9196428571428571\n",
      "\n",
      "epoch: 95, Training Loss: 0.29648298025131226, Testing Loss: 0.3719993531703949, Training Accuracy: 0.9098696461824953, Testing Accuracy: 0.9107142857142857\n",
      "\n",
      "epoch: 96, Training Loss: 0.2975979149341583, Testing Loss: 0.3746885657310486, Training Accuracy: 0.9121042830540037, Testing Accuracy: 0.9047619047619048\n",
      "\n",
      "epoch: 97, Training Loss: 0.2900112271308899, Testing Loss: 0.36480623483657837, Training Accuracy: 0.9109869646182496, Testing Accuracy: 0.9166666666666666\n",
      "\n",
      "epoch: 98, Training Loss: 0.29110923409461975, Testing Loss: 0.3634839951992035, Training Accuracy: 0.9080074487895717, Testing Accuracy: 0.9166666666666666\n",
      "\n",
      "epoch: 99, Training Loss: 0.2844475507736206, Testing Loss: 0.3599114716053009, Training Accuracy: 0.9124767225325885, Testing Accuracy: 0.9181547619047619\n",
      "\n",
      "epoch: 100, Training Loss: 0.28445184230804443, Testing Loss: 0.36196497082710266, Training Accuracy: 0.9135940409683426, Testing Accuracy: 0.9166666666666666\n",
      "\n"
     ]
    }
   ],
   "source": [
    "epochs = 100\n",
    "\n",
    "epochCount = []\n",
    "trainLossCount = []\n",
    "testLossCount = []\n",
    "trainAccCount = []\n",
    "testAccCount = []\n",
    "\n",
    "for epoch in range(epochs):\n",
    "  #start training mode\n",
    "  model_1.train()\n",
    "\n",
    "  #calculate predictions\n",
    "  y_logits = model_1(X_train)\n",
    "\n",
    "  #loss calculation\n",
    "  loss = criterion(y_logits, y_train)\n",
    "\n",
    "  #set all gradients to zero\n",
    "  optimizer.zero_grad()\n",
    "\n",
    "  #back propagation(calculating gradients)\n",
    "  loss.backward()\n",
    "\n",
    "  #changing the value of parameters\n",
    "  optimizer.step()\n",
    "\n",
    "  #checking if epoch meet the creteria\n",
    "  if epoch % 1 == 0:\n",
    "\n",
    "    #model in evaluation mode\n",
    "    model_1.eval()\n",
    "\n",
    "    with torch.inference_mode():\n",
    "      ytest_pred = model_1(X_test)\n",
    "      ytestLoss = criterion(ytest_pred, y_test)\n",
    "      testAccuracy = calculate_accuracy(ytest_pred, y_test)\n",
    "\n",
    "      ytrain_pred = model_1(X_train)\n",
    "      ytrainLoss = criterion(ytrain_pred, y_train)\n",
    "      trainAccuracy = calculate_accuracy(ytrain_pred, y_train)\n",
    "\n",
    "    trainLossCount.append(ytrainLoss)\n",
    "    testLossCount.append(ytestLoss)\n",
    "    trainAccCount.append(trainAccuracy)\n",
    "    testAccCount.append(testAccuracy)\n",
    "    epochCount.append(epoch)\n",
    "\n",
    "    print(f'epoch: {epoch+1}, Training Loss: {ytrainLoss}, Testing Loss: {ytestLoss}, Training Accuracy: {trainAccuracy}, Testing Accuracy: {testAccuracy}\\n')"
   ]
  },
  {
   "cell_type": "code",
   "execution_count": 27,
   "metadata": {},
   "outputs": [],
   "source": [
    "import matplotlib.pyplot as plt"
   ]
  },
  {
   "cell_type": "code",
   "execution_count": 41,
   "metadata": {},
   "outputs": [
    {
     "data": {
      "text/plain": [
       "<matplotlib.legend.Legend at 0x225bf1db550>"
      ]
     },
     "execution_count": 41,
     "metadata": {},
     "output_type": "execute_result"
    },
    {
     "data": {
      "image/png": "[encoded data removed]",
      "text/plain": [
       "<Figure size 640x480 with 1 Axes>"
      ]
     },
     "metadata": {},
     "output_type": "display_data"
    }
   ],
   "source": [
    "plt.plot(epochCount, trainAccCount, label = \"Training Accuracy\")\n",
    "plt.plot(epochCount, testAccCount, label = \"Testing Accuracy\")\n",
    "plt.xlabel(\"Number of epochs\")\n",
    "plt.ylabel(\"Accuracy\")\n",
    "plt.legend()"
   ]
  },
  {
   "cell_type": "code",
   "execution_count": 42,
   "metadata": {},
   "outputs": [
    {
     "data": {
      "text/plain": [
       "<matplotlib.legend.Legend at 0x225bf25c160>"
      ]
     },
     "execution_count": 42,
     "metadata": {},
     "output_type": "execute_result"
    },
    {
     "data": {
      "image/png": "[encoded data removed]",
      "text/plain": [
       "<Figure size 640x480 with 1 Axes>"
      ]
     },
     "metadata": {},
     "output_type": "display_data"
    }
   ],
   "source": [
    "plt.plot(epochCount, trainLossCount, label = \"Training Loss\")\n",
    "plt.plot(epochCount, testLossCount, label = \"Testing Loss\")\n",
    "plt.xlabel(\"Number of epochs\")\n",
    "plt.ylabel(\"Loss\")\n",
    "plt.legend()"
   ]
  },
  {
   "cell_type": "code",
   "execution_count": 43,
   "metadata": {},
   "outputs": [],
   "source": [
    "import mediapipe as mp\n",
    "mp_hands = mp.solutions.hands\n",
    "hands = mp_hands.Hands(min_detection_confidence=0.7, min_tracking_confidence=0.5, max_num_hands=1)"
   ]
  },
  {
   "cell_type": "code",
   "execution_count": 92,
   "metadata": {},
   "outputs": [],
   "source": [
    "modelPth = \"../models/nnAbsLmks2\"\n",
    "torch.save(model_1.state_dict(), modelPth)"
   ]
  },
  {
   "cell_type": "code",
   "execution_count": null,
   "metadata": {},
   "outputs": [],
   "source": []
  }
 ],
 "metadata": {
  "kernelspec": {
   "display_name": "DL",
   "language": "python",
   "name": "python3"
  },
  "language_info": {
   "codemirror_mode": {
    "name": "ipython",
    "version": 3
   },
   "file_extension": ".py",
   "mimetype": "text/x-python",
   "name": "python",
   "nbconvert_exporter": "python",
   "pygments_lexer": "ipython3",
   "version": "3.9.18"
  }
 },
 "nbformat": 4,
 "nbformat_minor": 2
}

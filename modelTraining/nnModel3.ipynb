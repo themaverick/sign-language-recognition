{
 "cells": [
  {
   "cell_type": "code",
   "execution_count": 1,
   "metadata": {},
   "outputs": [],
   "source": [
    "import torch\n",
    "import torch.nn as nn\n",
    "import torch.optim as optim\n",
    "import torch.nn.functional as F\n",
    "from torch.utils.data import DataLoader \n",
    "import numpy as np\n",
    "import cv2"
   ]
  },
  {
   "cell_type": "code",
   "execution_count": 2,
   "metadata": {},
   "outputs": [],
   "source": [
    "from sklearn.model_selection import train_test_split\n",
    "from sklearn.preprocessing import OneHotEncoder"
   ]
  },
  {
   "cell_type": "code",
   "execution_count": 3,
   "metadata": {},
   "outputs": [],
   "source": [
    "dsetAbsLmks = np.load(\"dsetEngFeat.npy\")"
   ]
  },
  {
   "cell_type": "code",
   "execution_count": 4,
   "metadata": {},
   "outputs": [
    {
     "data": {
      "text/plain": [
       "(52,)"
      ]
     },
     "execution_count": 4,
     "metadata": {},
     "output_type": "execute_result"
    }
   ],
   "source": [
    "dsetAbsLmks[204].shape"
   ]
  },
  {
   "cell_type": "code",
   "execution_count": 5,
   "metadata": {},
   "outputs": [
    {
     "data": {
      "text/plain": [
       "array([ 1.39017297e-01, -9.75861040e-01, -1.68432248e-01, -2.57800371e-02,\n",
       "       -9.60098073e-01, -2.78472763e-01, -1.31901714e-01, -9.57257325e-01,\n",
       "       -2.57410861e-01,  1.38358102e-01, -9.83356886e-01, -1.17755129e-01,\n",
       "        6.37783524e-02, -9.76194502e-01, -2.07308024e-01, -1.39218711e-02,\n",
       "       -9.80663087e-01, -1.95207814e-01,  1.08466245e-01, -9.84731551e-01,\n",
       "       -1.36157431e-01,  1.14797920e-01, -9.76425637e-01, -1.82796098e-01,\n",
       "        1.85153741e-02, -9.87188508e-01, -1.58480381e-01,  1.00914509e-01,\n",
       "       -9.80556175e-01, -1.68302848e-01,  1.18144098e-01, -9.85737266e-01,\n",
       "       -1.19849968e-01,  7.25876526e-02, -9.92555181e-01, -9.78020747e-02,\n",
       "        3.71142691e-01, -9.27637097e-01, -4.17435047e-02, -2.30931844e-01,\n",
       "       -9.72361215e-01, -3.44114826e-02, -8.23091414e-01, -5.67528023e-01,\n",
       "       -2.07958519e-02,  9.92203941e-01,  9.97201059e-01,  9.99015778e-01,\n",
       "        9.99380755e-01,  8.65626338e-01,  1.00000000e+00,  1.60000000e+01])"
      ]
     },
     "execution_count": 5,
     "metadata": {},
     "output_type": "execute_result"
    }
   ],
   "source": [
    "dsetAbsLmks[204]"
   ]
  },
  {
   "cell_type": "code",
   "execution_count": 6,
   "metadata": {},
   "outputs": [],
   "source": [
    "X = dsetAbsLmks[:, :50]\n",
    "y = dsetAbsLmks[:, 50:]"
   ]
  },
  {
   "cell_type": "code",
   "execution_count": 7,
   "metadata": {},
   "outputs": [
    {
     "name": "stdout",
     "output_type": "stream",
     "text": [
      "X.shape:  (3357, 50) \n",
      "y.shape:  (3357, 2)\n"
     ]
    }
   ],
   "source": [
    "print(\"X.shape: \", X.shape, \"\\ny.shape: \", y.shape)"
   ]
  },
  {
   "cell_type": "code",
   "execution_count": 8,
   "metadata": {},
   "outputs": [],
   "source": [
    "X_train, X_test, y_train, y_test = train_test_split(X, y, test_size=0.2)"
   ]
  },
  {
   "cell_type": "code",
   "execution_count": 9,
   "metadata": {},
   "outputs": [
    {
     "data": {
      "text/plain": [
       "array([23., 82.])"
      ]
     },
     "execution_count": 9,
     "metadata": {},
     "output_type": "execute_result"
    }
   ],
   "source": [
    "y_train[0]"
   ]
  },
  {
   "cell_type": "code",
   "execution_count": 10,
   "metadata": {},
   "outputs": [
    {
     "data": {
      "text/plain": [
       "array([[ 23.,  82.],\n",
       "       [ 20., 121.],\n",
       "       [  5.,  16.],\n",
       "       [ 14.,  39.],\n",
       "       [ 16., 186.]])"
      ]
     },
     "execution_count": 10,
     "metadata": {},
     "output_type": "execute_result"
    }
   ],
   "source": [
    "y_train[:5]"
   ]
  },
  {
   "cell_type": "code",
   "execution_count": 11,
   "metadata": {},
   "outputs": [],
   "source": [
    "numTrain = y_train[:, -1]\n",
    "numTest = y_test[:, -1]\n",
    "y_train = y_train[:, 0]\n",
    "y_test = y_test[:, 0]"
   ]
  },
  {
   "cell_type": "code",
   "execution_count": 12,
   "metadata": {},
   "outputs": [
    {
     "name": "stderr",
     "output_type": "stream",
     "text": [
      "c:\\Users\\HP\\.conda\\envs\\DL\\lib\\site-packages\\sklearn\\preprocessing\\_encoders.py:972: FutureWarning: `sparse` was renamed to `sparse_output` in version 1.2 and will be removed in 1.4. `sparse_output` is ignored unless you leave `sparse` to its default value.\n",
      "  warnings.warn(\n",
      "c:\\Users\\HP\\.conda\\envs\\DL\\lib\\site-packages\\sklearn\\preprocessing\\_encoders.py:972: FutureWarning: `sparse` was renamed to `sparse_output` in version 1.2 and will be removed in 1.4. `sparse_output` is ignored unless you leave `sparse` to its default value.\n",
      "  warnings.warn(\n"
     ]
    }
   ],
   "source": [
    "encoder = OneHotEncoder(sparse = False)\n",
    "y_train = encoder.fit_transform(y_train.reshape(-1, 1))\n",
    "y_test = encoder.fit_transform(y_test.reshape(-1, 1))"
   ]
  },
  {
   "cell_type": "code",
   "execution_count": 13,
   "metadata": {},
   "outputs": [
    {
     "data": {
      "text/plain": [
       "array([[0., 0., 0., 0., 0., 0., 0., 0., 0., 0., 0., 0., 0., 0., 0., 0.,\n",
       "        0., 0., 0., 0., 0., 0., 0., 1.],\n",
       "       [0., 0., 0., 0., 0., 0., 0., 0., 0., 0., 0., 0., 0., 0., 0., 0.,\n",
       "        0., 0., 0., 0., 1., 0., 0., 0.],\n",
       "       [0., 0., 0., 0., 0., 1., 0., 0., 0., 0., 0., 0., 0., 0., 0., 0.,\n",
       "        0., 0., 0., 0., 0., 0., 0., 0.],\n",
       "       [0., 0., 0., 0., 0., 0., 0., 0., 0., 0., 0., 0., 0., 0., 1., 0.,\n",
       "        0., 0., 0., 0., 0., 0., 0., 0.],\n",
       "       [0., 0., 0., 0., 0., 0., 0., 0., 0., 0., 0., 0., 0., 0., 0., 0.,\n",
       "        1., 0., 0., 0., 0., 0., 0., 0.]])"
      ]
     },
     "execution_count": 13,
     "metadata": {},
     "output_type": "execute_result"
    }
   ],
   "source": [
    "y_train[:5]"
   ]
  },
  {
   "cell_type": "code",
   "execution_count": 14,
   "metadata": {},
   "outputs": [],
   "source": [
    "class NN(nn.Module):\n",
    "  def __init__(self, input_size, num_classes):\n",
    "    super(NN, self).__init__()\n",
    "    self.fc1 = nn.Linear(input_size, 128)\n",
    "    self.fc2 = nn.Linear(128, 64)\n",
    "    self.fc3 = nn.Linear(64, num_classes)\n",
    "\n",
    "\n",
    "# Sequential Layer\n",
    "  def forward(self, x):\n",
    "    x = self.fc3(F.relu(self.fc2(F.relu(self.fc1(x)))))\n",
    "    return x"
   ]
  },
  {
   "cell_type": "code",
   "execution_count": 15,
   "metadata": {},
   "outputs": [],
   "source": [
    "\n",
    "def calculate_accuracy(y_pred, y_true):\n",
    "    _, predicted = torch.max(y_pred, 1)\n",
    "    _, true = torch.max(y_true, 1)\n",
    "    correct = (predicted == true).sum().item()\n",
    "    accuracy = correct / y_true.size(0)\n",
    "    return accuracy"
   ]
  },
  {
   "cell_type": "code",
   "execution_count": 16,
   "metadata": {},
   "outputs": [],
   "source": [
    "X_train = torch.from_numpy(X_train)\n",
    "X_test = torch.from_numpy(X_test)\n",
    "y_test = torch.from_numpy(y_test)\n",
    "y_train = torch.from_numpy(y_train)"
   ]
  },
  {
   "cell_type": "code",
   "execution_count": 17,
   "metadata": {},
   "outputs": [],
   "source": [
    "X_train = X_train.float()\n",
    "X_test = X_test.float()\n",
    "y_train = y_train.float()\n",
    "y_test = y_test.float()"
   ]
  },
  {
   "cell_type": "code",
   "execution_count": 18,
   "metadata": {},
   "outputs": [
    {
     "data": {
      "text/plain": [
       "torch.float32"
      ]
     },
     "execution_count": 18,
     "metadata": {},
     "output_type": "execute_result"
    }
   ],
   "source": [
    "X_train.dtype"
   ]
  },
  {
   "cell_type": "code",
   "execution_count": 19,
   "metadata": {},
   "outputs": [],
   "source": [
    "input_size = 50          # Number of input features (e.g., flattened size of images)\n",
    "num_classes = 24           # Number of output classes\n",
    "learning_rate = 0.01      # Learning rate for the optimization algorithm\n",
    "batch_size = 64             # Number of input samples in each mini-batch\n",
    "num_epochs = 1"
   ]
  },
  {
   "cell_type": "code",
   "execution_count": 20,
   "metadata": {},
   "outputs": [],
   "source": [
    "model_1 = NN(input_size=input_size, num_classes=num_classes)"
   ]
  },
  {
   "cell_type": "code",
   "execution_count": 21,
   "metadata": {},
   "outputs": [],
   "source": [
    "# Define the loss criterion as CrossEntropyLoss and the optimization algorithm as Adam\n",
    "criterion = nn.CrossEntropyLoss()\n",
    "optimizer = optim.Adam(model_1.parameters(), lr=learning_rate)"
   ]
  },
  {
   "cell_type": "code",
   "execution_count": 22,
   "metadata": {},
   "outputs": [
    {
     "name": "stdout",
     "output_type": "stream",
     "text": [
      "epoch: 1, Training Loss: 3.045142412185669, Testing Loss: 3.052973747253418, Training Accuracy: 0.15865921787709497, Testing Accuracy: 0.15327380952380953\n",
      "\n",
      "epoch: 2, Training Loss: 2.86438250541687, Testing Loss: 2.875872850418091, Training Accuracy: 0.33891992551210426, Testing Accuracy: 0.3125\n",
      "\n",
      "epoch: 3, Training Loss: 2.6103312969207764, Testing Loss: 2.6249070167541504, Training Accuracy: 0.36983240223463687, Testing Accuracy: 0.34375\n",
      "\n",
      "epoch: 4, Training Loss: 2.2924907207489014, Testing Loss: 2.3081724643707275, Training Accuracy: 0.38063314711359403, Testing Accuracy: 0.35267857142857145\n",
      "\n",
      "epoch: 5, Training Loss: 1.940083622932434, Testing Loss: 1.9539426565170288, Training Accuracy: 0.46405959031657357, Testing Accuracy: 0.4270833333333333\n",
      "\n",
      "epoch: 6, Training Loss: 1.598758339881897, Testing Loss: 1.6114892959594727, Training Accuracy: 0.553072625698324, Testing Accuracy: 0.5252976190476191\n",
      "\n",
      "epoch: 7, Training Loss: 1.307494878768921, Testing Loss: 1.3241486549377441, Training Accuracy: 0.6595903165735568, Testing Accuracy: 0.6324404761904762\n",
      "\n",
      "epoch: 8, Training Loss: 1.0735681056976318, Testing Loss: 1.0994844436645508, Training Accuracy: 0.7121042830540038, Testing Accuracy: 0.6800595238095238\n",
      "\n",
      "epoch: 9, Training Loss: 0.9052138924598694, Testing Loss: 0.9384992718696594, Training Accuracy: 0.7348230912476722, Testing Accuracy: 0.7068452380952381\n",
      "\n",
      "epoch: 10, Training Loss: 0.7964242100715637, Testing Loss: 0.8350850939750671, Training Accuracy: 0.7687150837988826, Testing Accuracy: 0.7425595238095238\n",
      "\n",
      "epoch: 11, Training Loss: 0.7231983542442322, Testing Loss: 0.787281334400177, Training Accuracy: 0.7281191806331471, Testing Accuracy: 0.6770833333333334\n",
      "\n",
      "epoch: 12, Training Loss: 0.6679408550262451, Testing Loss: 0.7114114165306091, Training Accuracy: 0.7385474860335196, Testing Accuracy: 0.7351190476190477\n",
      "\n",
      "epoch: 13, Training Loss: 0.6096541285514832, Testing Loss: 0.6737381815910339, Training Accuracy: 0.788826815642458, Testing Accuracy: 0.7723214285714286\n",
      "\n",
      "epoch: 14, Training Loss: 0.5761881470680237, Testing Loss: 0.6362133026123047, Training Accuracy: 0.7869646182495345, Testing Accuracy: 0.7559523809523809\n",
      "\n",
      "epoch: 15, Training Loss: 0.5466380715370178, Testing Loss: 0.5910353064537048, Training Accuracy: 0.7780260707635009, Testing Accuracy: 0.7738095238095238\n",
      "\n",
      "epoch: 16, Training Loss: 0.5143969058990479, Testing Loss: 0.5869467258453369, Training Accuracy: 0.8018621973929236, Testing Accuracy: 0.7961309523809523\n",
      "\n",
      "epoch: 17, Training Loss: 0.48737967014312744, Testing Loss: 0.5603484511375427, Training Accuracy: 0.8204841713221601, Testing Accuracy: 0.7857142857142857\n",
      "\n",
      "epoch: 18, Training Loss: 0.4513094425201416, Testing Loss: 0.5047069787979126, Training Accuracy: 0.8439478584729981, Testing Accuracy: 0.8303571428571429\n",
      "\n",
      "epoch: 19, Training Loss: 0.4296969473361969, Testing Loss: 0.49182161688804626, Training Accuracy: 0.845437616387337, Testing Accuracy: 0.8392857142857143\n",
      "\n",
      "epoch: 20, Training Loss: 0.4065474569797516, Testing Loss: 0.4676770269870758, Training Accuracy: 0.8674115456238362, Testing Accuracy: 0.8452380952380952\n",
      "\n",
      "epoch: 21, Training Loss: 0.38306841254234314, Testing Loss: 0.43997615575790405, Training Accuracy: 0.8633147113594041, Testing Accuracy: 0.8363095238095238\n",
      "\n",
      "epoch: 22, Training Loss: 0.36730316281318665, Testing Loss: 0.4202887713909149, Training Accuracy: 0.8711359404096835, Testing Accuracy: 0.8630952380952381\n",
      "\n",
      "epoch: 23, Training Loss: 0.34399065375328064, Testing Loss: 0.39491134881973267, Training Accuracy: 0.8905027932960894, Testing Accuracy: 0.8839285714285714\n",
      "\n",
      "epoch: 24, Training Loss: 0.3330855071544647, Testing Loss: 0.3802637457847595, Training Accuracy: 0.897951582867784, Testing Accuracy: 0.8883928571428571\n",
      "\n",
      "epoch: 25, Training Loss: 0.3090452551841736, Testing Loss: 0.35535183548927307, Training Accuracy: 0.8938547486033519, Testing Accuracy: 0.8779761904761905\n",
      "\n",
      "epoch: 26, Training Loss: 0.2951657474040985, Testing Loss: 0.3411208391189575, Training Accuracy: 0.9024208566108007, Testing Accuracy: 0.8943452380952381\n",
      "\n",
      "epoch: 27, Training Loss: 0.2828308343887329, Testing Loss: 0.31908950209617615, Training Accuracy: 0.9128491620111732, Testing Accuracy: 0.8958333333333334\n",
      "\n",
      "epoch: 28, Training Loss: 0.26508045196533203, Testing Loss: 0.2991674840450287, Training Accuracy: 0.9135940409683426, Testing Accuracy: 0.8898809523809523\n",
      "\n",
      "epoch: 29, Training Loss: 0.2579061686992645, Testing Loss: 0.2923242151737213, Training Accuracy: 0.9150837988826815, Testing Accuracy: 0.9047619047619048\n",
      "\n",
      "epoch: 30, Training Loss: 0.240862637758255, Testing Loss: 0.27124255895614624, Training Accuracy: 0.9303538175046555, Testing Accuracy: 0.9166666666666666\n",
      "\n",
      "epoch: 31, Training Loss: 0.23067405819892883, Testing Loss: 0.25842493772506714, Training Accuracy: 0.9344506517690875, Testing Accuracy: 0.9270833333333334\n",
      "\n",
      "epoch: 32, Training Loss: 0.2210719734430313, Testing Loss: 0.2540190815925598, Training Accuracy: 0.9288640595903166, Testing Accuracy: 0.9226190476190477\n",
      "\n",
      "epoch: 33, Training Loss: 0.21307477355003357, Testing Loss: 0.2461879402399063, Training Accuracy: 0.933705772811918, Testing Accuracy: 0.9255952380952381\n",
      "\n",
      "epoch: 34, Training Loss: 0.20393507182598114, Testing Loss: 0.23271967470645905, Training Accuracy: 0.943389199255121, Testing Accuracy: 0.9419642857142857\n",
      "\n",
      "epoch: 35, Training Loss: 0.19684267044067383, Testing Loss: 0.2286023646593094, Training Accuracy: 0.9482309124767225, Testing Accuracy: 0.9419642857142857\n",
      "\n",
      "epoch: 36, Training Loss: 0.18743373453617096, Testing Loss: 0.21984785795211792, Training Accuracy: 0.9467411545623836, Testing Accuracy: 0.9389880952380952\n",
      "\n",
      "epoch: 37, Training Loss: 0.18238821625709534, Testing Loss: 0.21732451021671295, Training Accuracy: 0.9504655493482309, Testing Accuracy: 0.9389880952380952\n",
      "\n",
      "epoch: 38, Training Loss: 0.1768982708454132, Testing Loss: 0.2129531353712082, Training Accuracy: 0.9560521415270019, Testing Accuracy: 0.9494047619047619\n",
      "\n",
      "epoch: 39, Training Loss: 0.17017874121665955, Testing Loss: 0.20221015810966492, Training Accuracy: 0.958659217877095, Testing Accuracy: 0.9479166666666666\n",
      "\n",
      "epoch: 40, Training Loss: 0.16457924246788025, Testing Loss: 0.20070183277130127, Training Accuracy: 0.9567970204841714, Testing Accuracy: 0.9434523809523809\n",
      "\n",
      "epoch: 41, Training Loss: 0.15824249386787415, Testing Loss: 0.19787776470184326, Training Accuracy: 0.9597765363128492, Testing Accuracy: 0.9538690476190477\n",
      "\n",
      "epoch: 42, Training Loss: 0.154926136136055, Testing Loss: 0.1936694085597992, Training Accuracy: 0.9608938547486033, Testing Accuracy: 0.9479166666666666\n",
      "\n",
      "epoch: 43, Training Loss: 0.14779207110404968, Testing Loss: 0.18683820962905884, Training Accuracy: 0.9664804469273743, Testing Accuracy: 0.9553571428571429\n",
      "\n",
      "epoch: 44, Training Loss: 0.1448703408241272, Testing Loss: 0.18481133878231049, Training Accuracy: 0.9631284916201117, Testing Accuracy: 0.9568452380952381\n",
      "\n",
      "epoch: 45, Training Loss: 0.13929221034049988, Testing Loss: 0.1807658076286316, Training Accuracy: 0.9675977653631285, Testing Accuracy: 0.9538690476190477\n",
      "\n",
      "epoch: 46, Training Loss: 0.13555502891540527, Testing Loss: 0.17923562228679657, Training Accuracy: 0.9675977653631285, Testing Accuracy: 0.9568452380952381\n",
      "\n",
      "epoch: 47, Training Loss: 0.13124431669712067, Testing Loss: 0.1765102744102478, Training Accuracy: 0.9687150837988827, Testing Accuracy: 0.9613095238095238\n",
      "\n",
      "epoch: 48, Training Loss: 0.12768308818340302, Testing Loss: 0.17185482382774353, Training Accuracy: 0.9720670391061452, Testing Accuracy: 0.9613095238095238\n",
      "\n",
      "epoch: 49, Training Loss: 0.12341702729463577, Testing Loss: 0.17093506455421448, Training Accuracy: 0.9702048417132216, Testing Accuracy: 0.9598214285714286\n",
      "\n",
      "epoch: 50, Training Loss: 0.12025143206119537, Testing Loss: 0.1692110002040863, Training Accuracy: 0.9705772811918063, Testing Accuracy: 0.9627976190476191\n",
      "\n",
      "epoch: 51, Training Loss: 0.11586234718561172, Testing Loss: 0.16469043493270874, Training Accuracy: 0.9731843575418995, Testing Accuracy: 0.9613095238095238\n",
      "\n",
      "epoch: 52, Training Loss: 0.11285777390003204, Testing Loss: 0.16165199875831604, Training Accuracy: 0.9754189944134078, Testing Accuracy: 0.9613095238095238\n",
      "\n",
      "epoch: 53, Training Loss: 0.10931970179080963, Testing Loss: 0.15993404388427734, Training Accuracy: 0.9746741154562384, Testing Accuracy: 0.9642857142857143\n",
      "\n",
      "epoch: 54, Training Loss: 0.10636959224939346, Testing Loss: 0.15867546200752258, Training Accuracy: 0.9743016759776536, Testing Accuracy: 0.9642857142857143\n",
      "\n",
      "epoch: 55, Training Loss: 0.1032157689332962, Testing Loss: 0.15506508946418762, Training Accuracy: 0.9780260707635009, Testing Accuracy: 0.9657738095238095\n",
      "\n",
      "epoch: 56, Training Loss: 0.10079602897167206, Testing Loss: 0.15337957441806793, Training Accuracy: 0.9754189944134078, Testing Accuracy: 0.9642857142857143\n",
      "\n",
      "epoch: 57, Training Loss: 0.09772686660289764, Testing Loss: 0.15046443045139313, Training Accuracy: 0.9802607076350093, Testing Accuracy: 0.9642857142857143\n",
      "\n",
      "epoch: 58, Training Loss: 0.09558577090501785, Testing Loss: 0.15136078000068665, Training Accuracy: 0.9772811918063314, Testing Accuracy: 0.9657738095238095\n",
      "\n",
      "epoch: 59, Training Loss: 0.09329059720039368, Testing Loss: 0.14895157516002655, Training Accuracy: 0.9806331471135941, Testing Accuracy: 0.9657738095238095\n",
      "\n",
      "epoch: 60, Training Loss: 0.0922665074467659, Testing Loss: 0.14884284138679504, Training Accuracy: 0.9743016759776536, Testing Accuracy: 0.9657738095238095\n",
      "\n",
      "epoch: 61, Training Loss: 0.0921325832605362, Testing Loss: 0.14947651326656342, Training Accuracy: 0.9798882681564246, Testing Accuracy: 0.9657738095238095\n",
      "\n",
      "epoch: 62, Training Loss: 0.09071147441864014, Testing Loss: 0.1502261608839035, Training Accuracy: 0.97243947858473, Testing Accuracy: 0.9613095238095238\n",
      "\n",
      "epoch: 63, Training Loss: 0.08631396293640137, Testing Loss: 0.14699269831180573, Training Accuracy: 0.9828677839851024, Testing Accuracy: 0.9657738095238095\n",
      "\n",
      "epoch: 64, Training Loss: 0.08036015182733536, Testing Loss: 0.14012496173381805, Training Accuracy: 0.9824953445065177, Testing Accuracy: 0.96875\n",
      "\n",
      "epoch: 65, Training Loss: 0.07734104245901108, Testing Loss: 0.13915345072746277, Training Accuracy: 0.9843575418994414, Testing Accuracy: 0.9672619047619048\n",
      "\n",
      "epoch: 66, Training Loss: 0.07728464901447296, Testing Loss: 0.14084495604038239, Training Accuracy: 0.9843575418994414, Testing Accuracy: 0.96875\n",
      "\n",
      "epoch: 67, Training Loss: 0.07597455382347107, Testing Loss: 0.138970285654068, Training Accuracy: 0.9813780260707635, Testing Accuracy: 0.9702380952380952\n",
      "\n",
      "epoch: 68, Training Loss: 0.0721803605556488, Testing Loss: 0.13656194508075714, Training Accuracy: 0.984729981378026, Testing Accuracy: 0.9672619047619048\n",
      "\n",
      "epoch: 69, Training Loss: 0.06897822767496109, Testing Loss: 0.13274745643138885, Training Accuracy: 0.9865921787709497, Testing Accuracy: 0.96875\n",
      "\n",
      "epoch: 70, Training Loss: 0.06826645880937576, Testing Loss: 0.13317614793777466, Training Accuracy: 0.9858472998137803, Testing Accuracy: 0.9717261904761905\n",
      "\n",
      "epoch: 71, Training Loss: 0.06756430119276047, Testing Loss: 0.13476654887199402, Training Accuracy: 0.9858472998137803, Testing Accuracy: 0.9702380952380952\n",
      "\n",
      "epoch: 72, Training Loss: 0.06472910195589066, Testing Loss: 0.12950244545936584, Training Accuracy: 0.9869646182495344, Testing Accuracy: 0.9717261904761905\n",
      "\n",
      "epoch: 73, Training Loss: 0.062158599495887756, Testing Loss: 0.12787093222141266, Training Accuracy: 0.9877094972067039, Testing Accuracy: 0.9702380952380952\n",
      "\n",
      "epoch: 74, Training Loss: 0.06124827265739441, Testing Loss: 0.12853805720806122, Training Accuracy: 0.9888268156424581, Testing Accuracy: 0.9702380952380952\n",
      "\n",
      "epoch: 75, Training Loss: 0.06038918346166611, Testing Loss: 0.12677569687366486, Training Accuracy: 0.9873370577281192, Testing Accuracy: 0.9717261904761905\n",
      "\n",
      "epoch: 76, Training Loss: 0.058278974145650864, Testing Loss: 0.12615609169006348, Training Accuracy: 0.9880819366852887, Testing Accuracy: 0.9717261904761905\n",
      "\n",
      "epoch: 77, Training Loss: 0.05622907355427742, Testing Loss: 0.12408936768770218, Training Accuracy: 0.9895716945996276, Testing Accuracy: 0.9717261904761905\n",
      "\n",
      "epoch: 78, Training Loss: 0.05534427985548973, Testing Loss: 0.12336193025112152, Training Accuracy: 0.9884543761638733, Testing Accuracy: 0.9732142857142857\n",
      "\n",
      "epoch: 79, Training Loss: 0.054400861263275146, Testing Loss: 0.12391506880521774, Training Accuracy: 0.9888268156424581, Testing Accuracy: 0.9717261904761905\n",
      "\n",
      "epoch: 80, Training Loss: 0.052488598972558975, Testing Loss: 0.12145198881626129, Training Accuracy: 0.9891992551210428, Testing Accuracy: 0.9732142857142857\n",
      "\n",
      "epoch: 81, Training Loss: 0.05092288553714752, Testing Loss: 0.12032857537269592, Training Accuracy: 0.990316573556797, Testing Accuracy: 0.9732142857142857\n",
      "\n",
      "epoch: 82, Training Loss: 0.0501333549618721, Testing Loss: 0.11969615519046783, Training Accuracy: 0.9899441340782122, Testing Accuracy: 0.9702380952380952\n",
      "\n",
      "epoch: 83, Training Loss: 0.04914151132106781, Testing Loss: 0.11818989366292953, Training Accuracy: 0.9906890130353817, Testing Accuracy: 0.9732142857142857\n",
      "\n",
      "epoch: 84, Training Loss: 0.04769113287329674, Testing Loss: 0.11782681196928024, Training Accuracy: 0.9899441340782122, Testing Accuracy: 0.9717261904761905\n",
      "\n",
      "epoch: 85, Training Loss: 0.04633525386452675, Testing Loss: 0.11585495620965958, Training Accuracy: 0.9910614525139665, Testing Accuracy: 0.9717261904761905\n",
      "\n",
      "epoch: 86, Training Loss: 0.04549394175410271, Testing Loss: 0.11459498107433319, Training Accuracy: 0.9914338919925512, Testing Accuracy: 0.9747023809523809\n",
      "\n",
      "epoch: 87, Training Loss: 0.04465847089886665, Testing Loss: 0.11491940170526505, Training Accuracy: 0.990316573556797, Testing Accuracy: 0.9717261904761905\n",
      "\n",
      "epoch: 88, Training Loss: 0.04351813346147537, Testing Loss: 0.1131611242890358, Training Accuracy: 0.9914338919925512, Testing Accuracy: 0.9747023809523809\n",
      "\n",
      "epoch: 89, Training Loss: 0.04236895591020584, Testing Loss: 0.11210833489894867, Training Accuracy: 0.9910614525139665, Testing Accuracy: 0.9732142857142857\n",
      "\n",
      "epoch: 90, Training Loss: 0.041525326669216156, Testing Loss: 0.11125224828720093, Training Accuracy: 0.9914338919925512, Testing Accuracy: 0.9732142857142857\n",
      "\n",
      "epoch: 91, Training Loss: 0.040765430778265, Testing Loss: 0.11042632162570953, Training Accuracy: 0.9914338919925512, Testing Accuracy: 0.9761904761904762\n",
      "\n",
      "epoch: 92, Training Loss: 0.03989016264677048, Testing Loss: 0.11031164228916168, Training Accuracy: 0.9914338919925512, Testing Accuracy: 0.9732142857142857\n",
      "\n",
      "epoch: 93, Training Loss: 0.03890671953558922, Testing Loss: 0.10857842117547989, Training Accuracy: 0.9914338919925512, Testing Accuracy: 0.9761904761904762\n",
      "\n",
      "epoch: 94, Training Loss: 0.03799326345324516, Testing Loss: 0.10772854834794998, Training Accuracy: 0.9925512104283054, Testing Accuracy: 0.9747023809523809\n",
      "\n",
      "epoch: 95, Training Loss: 0.03724249452352524, Testing Loss: 0.10771506279706955, Training Accuracy: 0.9925512104283054, Testing Accuracy: 0.9747023809523809\n",
      "\n",
      "epoch: 96, Training Loss: 0.036555591970682144, Testing Loss: 0.10702468454837799, Training Accuracy: 0.9929236499068901, Testing Accuracy: 0.9747023809523809\n",
      "\n",
      "epoch: 97, Training Loss: 0.03583383187651634, Testing Loss: 0.10653785616159439, Training Accuracy: 0.9921787709497206, Testing Accuracy: 0.9747023809523809\n",
      "\n",
      "epoch: 98, Training Loss: 0.03502907603979111, Testing Loss: 0.10567575693130493, Training Accuracy: 0.9929236499068901, Testing Accuracy: 0.9747023809523809\n",
      "\n",
      "epoch: 99, Training Loss: 0.03425876051187515, Testing Loss: 0.1050238162279129, Training Accuracy: 0.9929236499068901, Testing Accuracy: 0.9747023809523809\n",
      "\n",
      "epoch: 100, Training Loss: 0.03357008099555969, Testing Loss: 0.10412419587373734, Training Accuracy: 0.9925512104283054, Testing Accuracy: 0.9747023809523809\n",
      "\n"
     ]
    }
   ],
   "source": [
    "epochs = 100\n",
    "\n",
    "epochCount = []\n",
    "trainLossCount = []\n",
    "testLossCount = []\n",
    "trainAccCount = []\n",
    "testAccCount = []\n",
    "\n",
    "for epoch in range(epochs):\n",
    "  #start training mode\n",
    "  model_1.train()\n",
    "\n",
    "  #calculate predictions\n",
    "  y_logits = model_1(X_train)\n",
    "\n",
    "  #loss calculation\n",
    "  loss = criterion(y_logits, y_train)\n",
    "\n",
    "  #set all gradients to zero\n",
    "  optimizer.zero_grad()\n",
    "\n",
    "  #back propagation(calculating gradients)\n",
    "  loss.backward()\n",
    "\n",
    "  #changing the value of parameters\n",
    "  optimizer.step()\n",
    "\n",
    "  #checking if epoch meet the creteria\n",
    "  if epoch % 1 == 0:\n",
    "\n",
    "    #model in evaluation mode\n",
    "    model_1.eval()\n",
    "\n",
    "    with torch.inference_mode():\n",
    "      ytest_pred = model_1(X_test)\n",
    "      ytestLoss = criterion(ytest_pred, y_test)\n",
    "      testAccuracy = calculate_accuracy(ytest_pred, y_test)\n",
    "\n",
    "      ytrain_pred = model_1(X_train)\n",
    "      ytrainLoss = criterion(ytrain_pred, y_train)\n",
    "      trainAccuracy = calculate_accuracy(ytrain_pred, y_train)\n",
    "\n",
    "    trainLossCount.append(ytrainLoss)\n",
    "    testLossCount.append(ytestLoss)\n",
    "    trainAccCount.append(trainAccuracy)\n",
    "    testAccCount.append(testAccuracy)\n",
    "    epochCount.append(epoch)\n",
    "\n",
    "    print(f'epoch: {epoch+1}, Training Loss: {ytrainLoss}, Testing Loss: {ytestLoss}, Training Accuracy: {trainAccuracy}, Testing Accuracy: {testAccuracy}\\n')"
   ]
  },
  {
   "cell_type": "code",
   "execution_count": 23,
   "metadata": {},
   "outputs": [],
   "source": [
    "import matplotlib.pyplot as plt"
   ]
  },
  {
   "cell_type": "code",
   "execution_count": 24,
   "metadata": {},
   "outputs": [
    {
     "data": {
      "text/plain": [
       "<matplotlib.legend.Legend at 0x2150638b4c0>"
      ]
     },
     "execution_count": 24,
     "metadata": {},
     "output_type": "execute_result"
    },
    {
     "data": {
      "image/png": "[encoded data removed]",
      "text/plain": [
       "<Figure size 640x480 with 1 Axes>"
      ]
     },
     "metadata": {},
     "output_type": "display_data"
    }
   ],
   "source": [
    "plt.plot(epochCount, trainAccCount, label = \"Training Accuracy\")\n",
    "plt.plot(epochCount, testAccCount, label = \"Testing Accuracy\")\n",
    "plt.xlabel(\"Number of epochs\")\n",
    "plt.ylabel(\"Accuracy\")\n",
    "plt.legend()"
   ]
  },
  {
   "cell_type": "code",
   "execution_count": 25,
   "metadata": {},
   "outputs": [
    {
     "data": {
      "text/plain": [
       "<matplotlib.legend.Legend at 0x2150642ac40>"
      ]
     },
     "execution_count": 25,
     "metadata": {},
     "output_type": "execute_result"
    },
    {
     "data": {
      "image/png": "[encoded data removed]",
      "text/plain": [
       "<Figure size 640x480 with 1 Axes>"
      ]
     },
     "metadata": {},
     "output_type": "display_data"
    }
   ],
   "source": [
    "plt.plot(epochCount, trainLossCount, label = \"Training Loss\")\n",
    "plt.plot(epochCount, testLossCount, label = \"Testing Loss\")\n",
    "plt.xlabel(\"Number of epochs\")\n",
    "plt.ylabel(\"Loss\")\n",
    "plt.legend()"
   ]
  },
  {
   "cell_type": "code",
   "execution_count": 26,
   "metadata": {},
   "outputs": [],
   "source": [
    "import mediapipe as mp\n",
    "mp_hands = mp.solutions.hands\n",
    "hands = mp_hands.Hands(min_detection_confidence=0.7, min_tracking_confidence=0.5, max_num_hands=1)"
   ]
  },
  {
   "cell_type": "code",
   "execution_count": 28,
   "metadata": {},
   "outputs": [],
   "source": [
    "modelPth = \"../models/nnEngFeat\"\n",
    "torch.save(model_1.state_dict(), modelPth)"
   ]
  },
  {
   "cell_type": "code",
   "execution_count": null,
   "metadata": {},
   "outputs": [],
   "source": []
  }
 ],
 "metadata": {
  "kernelspec": {
   "display_name": "DL",
   "language": "python",
   "name": "python3"
  },
  "language_info": {
   "codemirror_mode": {
    "name": "ipython",
    "version": 3
   },
   "file_extension": ".py",
   "mimetype": "text/x-python",
   "name": "python",
   "nbconvert_exporter": "python",
   "pygments_lexer": "ipython3",
   "version": "3.9.18"
  }
 },
 "nbformat": 4,
 "nbformat_minor": 2
}
